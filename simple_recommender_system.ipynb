{
 "cells": [
  {
   "cell_type": "code",
   "execution_count": 1,
   "id": "ce31845f",
   "metadata": {},
   "outputs": [],
   "source": [
    "## to build a simple recommender system\n",
    "import pandas as pd\n",
    "import numpy as np\n",
    "import matplotlib.pyplot as plt\n",
    "import seaborn as sns"
   ]
  },
  {
   "cell_type": "code",
   "execution_count": 2,
   "id": "401cf7ff",
   "metadata": {},
   "outputs": [],
   "source": [
    "%matplotlib inline"
   ]
  },
  {
   "cell_type": "code",
   "execution_count": 3,
   "id": "45efd037",
   "metadata": {},
   "outputs": [],
   "source": [
    "# to import the dataset\n",
    "df = pd.read_csv('C:/Users/miche/Desktop/machine_learning/TMDb_updated.csv')"
   ]
  },
  {
   "cell_type": "code",
   "execution_count": 4,
   "id": "487ec4c6",
   "metadata": {},
   "outputs": [
    {
     "data": {
      "text/html": [
       "<div>\n",
       "<style scoped>\n",
       "    .dataframe tbody tr th:only-of-type {\n",
       "        vertical-align: middle;\n",
       "    }\n",
       "\n",
       "    .dataframe tbody tr th {\n",
       "        vertical-align: top;\n",
       "    }\n",
       "\n",
       "    .dataframe thead th {\n",
       "        text-align: right;\n",
       "    }\n",
       "</style>\n",
       "<table border=\"1\" class=\"dataframe\">\n",
       "  <thead>\n",
       "    <tr style=\"text-align: right;\">\n",
       "      <th></th>\n",
       "      <th>Unnamed: 0</th>\n",
       "      <th>title</th>\n",
       "      <th>overview</th>\n",
       "      <th>original_language</th>\n",
       "      <th>vote_count</th>\n",
       "      <th>vote_average</th>\n",
       "    </tr>\n",
       "  </thead>\n",
       "  <tbody>\n",
       "    <tr>\n",
       "      <th>0</th>\n",
       "      <td>0</td>\n",
       "      <td>Ad Astra</td>\n",
       "      <td>The near future, a time when both hope and har...</td>\n",
       "      <td>en</td>\n",
       "      <td>2853</td>\n",
       "      <td>5.9</td>\n",
       "    </tr>\n",
       "    <tr>\n",
       "      <th>1</th>\n",
       "      <td>1</td>\n",
       "      <td>Bloodshot</td>\n",
       "      <td>After he and his wife are murdered, marine Ray...</td>\n",
       "      <td>en</td>\n",
       "      <td>1349</td>\n",
       "      <td>7.2</td>\n",
       "    </tr>\n",
       "    <tr>\n",
       "      <th>2</th>\n",
       "      <td>2</td>\n",
       "      <td>Bad Boys for Life</td>\n",
       "      <td>Marcus and Mike are forced to confront new thr...</td>\n",
       "      <td>en</td>\n",
       "      <td>2530</td>\n",
       "      <td>7.1</td>\n",
       "    </tr>\n",
       "    <tr>\n",
       "      <th>3</th>\n",
       "      <td>3</td>\n",
       "      <td>Ant-Man</td>\n",
       "      <td>Armed with the astonishing ability to shrink i...</td>\n",
       "      <td>en</td>\n",
       "      <td>13611</td>\n",
       "      <td>7.1</td>\n",
       "    </tr>\n",
       "    <tr>\n",
       "      <th>4</th>\n",
       "      <td>4</td>\n",
       "      <td>Percy Jackson: Sea of Monsters</td>\n",
       "      <td>In their quest to confront the ultimate evil, ...</td>\n",
       "      <td>en</td>\n",
       "      <td>3542</td>\n",
       "      <td>5.9</td>\n",
       "    </tr>\n",
       "  </tbody>\n",
       "</table>\n",
       "</div>"
      ],
      "text/plain": [
       "   Unnamed: 0                           title  \\\n",
       "0           0                        Ad Astra   \n",
       "1           1                       Bloodshot   \n",
       "2           2               Bad Boys for Life   \n",
       "3           3                         Ant-Man   \n",
       "4           4  Percy Jackson: Sea of Monsters   \n",
       "\n",
       "                                            overview original_language  \\\n",
       "0  The near future, a time when both hope and har...                en   \n",
       "1  After he and his wife are murdered, marine Ray...                en   \n",
       "2  Marcus and Mike are forced to confront new thr...                en   \n",
       "3  Armed with the astonishing ability to shrink i...                en   \n",
       "4  In their quest to confront the ultimate evil, ...                en   \n",
       "\n",
       "   vote_count  vote_average  \n",
       "0        2853           5.9  \n",
       "1        1349           7.2  \n",
       "2        2530           7.1  \n",
       "3       13611           7.1  \n",
       "4        3542           5.9  "
      ]
     },
     "execution_count": 4,
     "metadata": {},
     "output_type": "execute_result"
    }
   ],
   "source": [
    "df.head()"
   ]
  },
  {
   "cell_type": "code",
   "execution_count": 5,
   "id": "d5c682ce",
   "metadata": {},
   "outputs": [],
   "source": [
    "# to remove the first column from dataset\n",
    "df = df.drop('Unnamed: 0',axis=1)"
   ]
  },
  {
   "cell_type": "code",
   "execution_count": 6,
   "id": "60b13e71",
   "metadata": {},
   "outputs": [
    {
     "data": {
      "text/html": [
       "<div>\n",
       "<style scoped>\n",
       "    .dataframe tbody tr th:only-of-type {\n",
       "        vertical-align: middle;\n",
       "    }\n",
       "\n",
       "    .dataframe tbody tr th {\n",
       "        vertical-align: top;\n",
       "    }\n",
       "\n",
       "    .dataframe thead th {\n",
       "        text-align: right;\n",
       "    }\n",
       "</style>\n",
       "<table border=\"1\" class=\"dataframe\">\n",
       "  <thead>\n",
       "    <tr style=\"text-align: right;\">\n",
       "      <th></th>\n",
       "      <th>title</th>\n",
       "      <th>overview</th>\n",
       "      <th>original_language</th>\n",
       "      <th>vote_count</th>\n",
       "      <th>vote_average</th>\n",
       "    </tr>\n",
       "  </thead>\n",
       "  <tbody>\n",
       "    <tr>\n",
       "      <th>0</th>\n",
       "      <td>Ad Astra</td>\n",
       "      <td>The near future, a time when both hope and har...</td>\n",
       "      <td>en</td>\n",
       "      <td>2853</td>\n",
       "      <td>5.9</td>\n",
       "    </tr>\n",
       "    <tr>\n",
       "      <th>1</th>\n",
       "      <td>Bloodshot</td>\n",
       "      <td>After he and his wife are murdered, marine Ray...</td>\n",
       "      <td>en</td>\n",
       "      <td>1349</td>\n",
       "      <td>7.2</td>\n",
       "    </tr>\n",
       "    <tr>\n",
       "      <th>2</th>\n",
       "      <td>Bad Boys for Life</td>\n",
       "      <td>Marcus and Mike are forced to confront new thr...</td>\n",
       "      <td>en</td>\n",
       "      <td>2530</td>\n",
       "      <td>7.1</td>\n",
       "    </tr>\n",
       "    <tr>\n",
       "      <th>3</th>\n",
       "      <td>Ant-Man</td>\n",
       "      <td>Armed with the astonishing ability to shrink i...</td>\n",
       "      <td>en</td>\n",
       "      <td>13611</td>\n",
       "      <td>7.1</td>\n",
       "    </tr>\n",
       "    <tr>\n",
       "      <th>4</th>\n",
       "      <td>Percy Jackson: Sea of Monsters</td>\n",
       "      <td>In their quest to confront the ultimate evil, ...</td>\n",
       "      <td>en</td>\n",
       "      <td>3542</td>\n",
       "      <td>5.9</td>\n",
       "    </tr>\n",
       "  </tbody>\n",
       "</table>\n",
       "</div>"
      ],
      "text/plain": [
       "                            title  \\\n",
       "0                        Ad Astra   \n",
       "1                       Bloodshot   \n",
       "2               Bad Boys for Life   \n",
       "3                         Ant-Man   \n",
       "4  Percy Jackson: Sea of Monsters   \n",
       "\n",
       "                                            overview original_language  \\\n",
       "0  The near future, a time when both hope and har...                en   \n",
       "1  After he and his wife are murdered, marine Ray...                en   \n",
       "2  Marcus and Mike are forced to confront new thr...                en   \n",
       "3  Armed with the astonishing ability to shrink i...                en   \n",
       "4  In their quest to confront the ultimate evil, ...                en   \n",
       "\n",
       "   vote_count  vote_average  \n",
       "0        2853           5.9  \n",
       "1        1349           7.2  \n",
       "2        2530           7.1  \n",
       "3       13611           7.1  \n",
       "4        3542           5.9  "
      ]
     },
     "execution_count": 6,
     "metadata": {},
     "output_type": "execute_result"
    }
   ],
   "source": [
    "df.head()"
   ]
  },
  {
   "cell_type": "code",
   "execution_count": 7,
   "id": "c9120dc8",
   "metadata": {},
   "outputs": [
    {
     "data": {
      "text/plain": [
       "title                 0\n",
       "overview             30\n",
       "original_language     0\n",
       "vote_count            0\n",
       "vote_average          0\n",
       "dtype: int64"
      ]
     },
     "execution_count": 7,
     "metadata": {},
     "output_type": "execute_result"
    }
   ],
   "source": [
    "# to check for missing values\n",
    "df.isnull().sum()"
   ]
  },
  {
   "cell_type": "code",
   "execution_count": 8,
   "id": "b44da656",
   "metadata": {},
   "outputs": [],
   "source": [
    "# to check for duplicated values\n",
    "duplicates = df[df.duplicated()]"
   ]
  },
  {
   "cell_type": "code",
   "execution_count": 9,
   "id": "f6303b09",
   "metadata": {},
   "outputs": [
    {
     "data": {
      "text/html": [
       "<div>\n",
       "<style scoped>\n",
       "    .dataframe tbody tr th:only-of-type {\n",
       "        vertical-align: middle;\n",
       "    }\n",
       "\n",
       "    .dataframe tbody tr th {\n",
       "        vertical-align: top;\n",
       "    }\n",
       "\n",
       "    .dataframe thead th {\n",
       "        text-align: right;\n",
       "    }\n",
       "</style>\n",
       "<table border=\"1\" class=\"dataframe\">\n",
       "  <thead>\n",
       "    <tr style=\"text-align: right;\">\n",
       "      <th></th>\n",
       "      <th>title</th>\n",
       "      <th>overview</th>\n",
       "      <th>original_language</th>\n",
       "      <th>vote_count</th>\n",
       "      <th>vote_average</th>\n",
       "    </tr>\n",
       "  </thead>\n",
       "  <tbody>\n",
       "  </tbody>\n",
       "</table>\n",
       "</div>"
      ],
      "text/plain": [
       "Empty DataFrame\n",
       "Columns: [title, overview, original_language, vote_count, vote_average]\n",
       "Index: []"
      ]
     },
     "execution_count": 9,
     "metadata": {},
     "output_type": "execute_result"
    }
   ],
   "source": [
    "# there are no duplicated values\n",
    "duplicates"
   ]
  },
  {
   "cell_type": "code",
   "execution_count": 10,
   "id": "5023b03a",
   "metadata": {},
   "outputs": [
    {
     "data": {
      "image/png": "[encoded data removed]",
      "text/plain": [
       "<Figure size 640x480 with 1 Axes>"
      ]
     },
     "metadata": {},
     "output_type": "display_data"
    }
   ],
   "source": [
    "# to plot a distribution of movie rating\n",
    "# average movie rating falls between 4.0 to 8.0\n",
    "sns.histplot(data=df, x='vote_average', kde=True, edgecolor=None)\n",
    "plt.title('Distribution of movie rating');"
   ]
  },
  {
   "cell_type": "code",
   "execution_count": 12,
   "id": "6a220b22",
   "metadata": {},
   "outputs": [
    {
     "data": {
      "image/png": "[encoded data removed]",
      "text/plain": [
       "<Figure size 640x480 with 1 Axes>"
      ]
     },
     "metadata": {},
     "output_type": "display_data"
    }
   ],
   "source": [
    "# to see the distribution of 'vote_count'\n",
    "df['vote_count'].hist(bins=50)\n",
    "plt.title('Histogram of votes');"
   ]
  },
  {
   "cell_type": "code",
   "execution_count": 13,
   "id": "4d6efc7e",
   "metadata": {},
   "outputs": [
    {
     "data": {
      "text/plain": [
       "title\n",
       "Four Kids and It            10.0\n",
       "Mamu (and a Mother Too)     10.0\n",
       "Gully                       10.0\n",
       "You're Bacon Me Crazy       10.0\n",
       "Prostitution                10.0\n",
       "The Water Monster           10.0\n",
       "Erotica:  Moonlight          9.8\n",
       "Bulletproof 2                9.5\n",
       "Kinky Boots: The Musical     9.2\n",
       "Sub Rosa                     9.0\n",
       "Name: vote_average, dtype: float64"
      ]
     },
     "execution_count": 13,
     "metadata": {},
     "output_type": "execute_result"
    }
   ],
   "source": [
    "# Exploratory Data analysis (EDA)\n",
    "# to print movie titles & its average ratings\n",
    "df.groupby('title')['vote_average'].mean().sort_values(ascending=False).head(10)"
   ]
  },
  {
   "cell_type": "code",
   "execution_count": 17,
   "id": "6df22fcb",
   "metadata": {},
   "outputs": [
    {
     "data": {
      "text/plain": [
       "title\n",
       "Beauty and the Beast    4\n",
       "Dracula                 4\n",
       "The Party               3\n",
       "Les Misérables          3\n",
       "The Kid                 3\n",
       "Fallen                  3\n",
       "The Mummy               3\n",
       "Carrie                  3\n",
       "The Cave                3\n",
       "Robin Hood              3\n",
       "Name: vote_count, dtype: int64"
      ]
     },
     "execution_count": 17,
     "metadata": {},
     "output_type": "execute_result"
    }
   ],
   "source": [
    "df.groupby('title')['vote_count'].count().sort_values(ascending=False).head(10)"
   ]
  },
  {
   "cell_type": "code",
   "execution_count": 19,
   "id": "1674b44d",
   "metadata": {},
   "outputs": [
    {
     "data": {
      "image/png": "[encoded data removed]",
      "text/plain": [
       "<Figure size 600x600 with 3 Axes>"
      ]
     },
     "metadata": {},
     "output_type": "display_data"
    }
   ],
   "source": [
    "# to plot a joint plot of 'vote_count' & 'vote_average'\n",
    "sns.jointplot(data=df, x='vote_average', y='vote_count', color='orange', alpha=0.5);"
   ]
  },
  {
   "cell_type": "code",
   "execution_count": 20,
   "id": "a2922f2e",
   "metadata": {},
   "outputs": [
    {
     "data": {
      "text/plain": [
       "6.306229999999999"
      ]
     },
     "execution_count": 20,
     "metadata": {},
     "output_type": "execute_result"
    }
   ],
   "source": [
    "# to calculate the mean of the vote average column\n",
    "# the average rating of a movie on IMDB is about 6.3 on a scale of 10\n",
    "C = df['vote_average'].mean()\n",
    "C"
   ]
  },
  {
   "cell_type": "code",
   "execution_count": 21,
   "id": "ab94e779",
   "metadata": {},
   "outputs": [
    {
     "data": {
      "text/plain": [
       "2555.0"
      ]
     },
     "execution_count": 21,
     "metadata": {},
     "output_type": "execute_result"
    }
   ],
   "source": [
    "# to calculate the number of votes received by movie in the 90th percentile using the .quantile() method\n",
    "# 2555 is the minimum number of votes required to be in the chart\n",
    "m = df['vote_count'].quantile(0.9)\n",
    "m"
   ]
  },
  {
   "cell_type": "code",
   "execution_count": 22,
   "id": "005c0f35",
   "metadata": {},
   "outputs": [
    {
     "data": {
      "text/plain": [
       "(1001, 5)"
      ]
     },
     "execution_count": 22,
     "metadata": {},
     "output_type": "execute_result"
    }
   ],
   "source": [
    "# to filter out movies having greater than equal to 2555 vote counts\n",
    "# to create a copy of df dataframe using the copy() method\n",
    "# it uses the loc method to select rows where the value in the vote_count is >= m and assigning it to new df: q_movies\n",
    "q_movies = df.copy().loc[df['vote_count']>=m]\n",
    "q_movies.shape"
   ]
  },
  {
   "cell_type": "code",
   "execution_count": 23,
   "id": "7609dea8",
   "metadata": {},
   "outputs": [
    {
     "data": {
      "text/plain": [
       "(10000, 5)"
      ]
     },
     "execution_count": 23,
     "metadata": {},
     "output_type": "execute_result"
    }
   ],
   "source": [
    "# q_movies, there are around 10% movies with vote count more than 2555 and qualified to be on the list\n",
    "df.shape"
   ]
  },
  {
   "cell_type": "code",
   "execution_count": 24,
   "id": "b946a9b5",
   "metadata": {},
   "outputs": [],
   "source": [
    "# most important step: to calculate the weighted rating for each qualified movie\n",
    "# Define a function, weighted_rating():\n",
    "# Function that computes the weighted rating of each movie\n",
    "def weighted_rating(x, m=m, C=C):\n",
    "    v = x['vote_count']\n",
    "    R = x['vote_average']\n",
    "      # Calculation based on the IMDB formula\n",
    "    return (v/(v+m)* R) + (m/(m+v) * C)"
   ]
  },
  {
   "cell_type": "code",
   "execution_count": 25,
   "id": "cc82250a",
   "metadata": {},
   "outputs": [],
   "source": [
    "# to define a new feature 'score' and calculate its value with 'weighted rating'\n",
    "q_movies['score'] = q_movies.apply(weighted_rating, axis=1)"
   ]
  },
  {
   "cell_type": "code",
   "execution_count": 26,
   "id": "8cf95283",
   "metadata": {},
   "outputs": [],
   "source": [
    "# to sort movies based on score calculated above\n",
    "q_movies = q_movies.sort_values('score', ascending=False)"
   ]
  },
  {
   "cell_type": "code",
   "execution_count": 27,
   "id": "9e479e6b",
   "metadata": {},
   "outputs": [
    {
     "data": {
      "text/html": [
       "<div>\n",
       "<style scoped>\n",
       "    .dataframe tbody tr th:only-of-type {\n",
       "        vertical-align: middle;\n",
       "    }\n",
       "\n",
       "    .dataframe tbody tr th {\n",
       "        vertical-align: top;\n",
       "    }\n",
       "\n",
       "    .dataframe thead th {\n",
       "        text-align: right;\n",
       "    }\n",
       "</style>\n",
       "<table border=\"1\" class=\"dataframe\">\n",
       "  <thead>\n",
       "    <tr style=\"text-align: right;\">\n",
       "      <th></th>\n",
       "      <th>title</th>\n",
       "      <th>vote_count</th>\n",
       "      <th>vote_average</th>\n",
       "      <th>score</th>\n",
       "    </tr>\n",
       "  </thead>\n",
       "  <tbody>\n",
       "    <tr>\n",
       "      <th>96</th>\n",
       "      <td>The Shawshank Redemption</td>\n",
       "      <td>15522</td>\n",
       "      <td>8.7</td>\n",
       "      <td>8.361665</td>\n",
       "    </tr>\n",
       "    <tr>\n",
       "      <th>110</th>\n",
       "      <td>The Godfather</td>\n",
       "      <td>11768</td>\n",
       "      <td>8.7</td>\n",
       "      <td>8.272989</td>\n",
       "    </tr>\n",
       "    <tr>\n",
       "      <th>216</th>\n",
       "      <td>Pulp Fiction</td>\n",
       "      <td>18003</td>\n",
       "      <td>8.5</td>\n",
       "      <td>8.227353</td>\n",
       "    </tr>\n",
       "    <tr>\n",
       "      <th>88</th>\n",
       "      <td>The Dark Knight</td>\n",
       "      <td>21561</td>\n",
       "      <td>8.4</td>\n",
       "      <td>8.178173</td>\n",
       "    </tr>\n",
       "    <tr>\n",
       "      <th>243</th>\n",
       "      <td>Fight Club</td>\n",
       "      <td>18664</td>\n",
       "      <td>8.4</td>\n",
       "      <td>8.147887</td>\n",
       "    </tr>\n",
       "    <tr>\n",
       "      <th>361</th>\n",
       "      <td>Forrest Gump</td>\n",
       "      <td>17344</td>\n",
       "      <td>8.4</td>\n",
       "      <td>8.131163</td>\n",
       "    </tr>\n",
       "    <tr>\n",
       "      <th>80</th>\n",
       "      <td>Inception</td>\n",
       "      <td>25148</td>\n",
       "      <td>8.3</td>\n",
       "      <td>8.116118</td>\n",
       "    </tr>\n",
       "    <tr>\n",
       "      <th>252</th>\n",
       "      <td>Schindler's List</td>\n",
       "      <td>9366</td>\n",
       "      <td>8.6</td>\n",
       "      <td>8.108382</td>\n",
       "    </tr>\n",
       "    <tr>\n",
       "      <th>197</th>\n",
       "      <td>The Lord of the Rings: The Return of the King</td>\n",
       "      <td>14987</td>\n",
       "      <td>8.4</td>\n",
       "      <td>8.095041</td>\n",
       "    </tr>\n",
       "    <tr>\n",
       "      <th>47</th>\n",
       "      <td>Interstellar</td>\n",
       "      <td>21589</td>\n",
       "      <td>8.3</td>\n",
       "      <td>8.089012</td>\n",
       "    </tr>\n",
       "    <tr>\n",
       "      <th>63</th>\n",
       "      <td>Avengers: Infinity War</td>\n",
       "      <td>17408</td>\n",
       "      <td>8.3</td>\n",
       "      <td>8.044824</td>\n",
       "    </tr>\n",
       "    <tr>\n",
       "      <th>772</th>\n",
       "      <td>The Green Mile</td>\n",
       "      <td>9740</td>\n",
       "      <td>8.5</td>\n",
       "      <td>8.044117</td>\n",
       "    </tr>\n",
       "    <tr>\n",
       "      <th>121</th>\n",
       "      <td>The Lord of the Rings: The Fellowship of the Ring</td>\n",
       "      <td>16434</td>\n",
       "      <td>8.3</td>\n",
       "      <td>8.031735</td>\n",
       "    </tr>\n",
       "    <tr>\n",
       "      <th>152</th>\n",
       "      <td>Spirited Away</td>\n",
       "      <td>9009</td>\n",
       "      <td>8.5</td>\n",
       "      <td>8.015299</td>\n",
       "    </tr>\n",
       "    <tr>\n",
       "      <th>540</th>\n",
       "      <td>The Empire Strikes Back</td>\n",
       "      <td>11164</td>\n",
       "      <td>8.4</td>\n",
       "      <td>8.010060</td>\n",
       "    </tr>\n",
       "  </tbody>\n",
       "</table>\n",
       "</div>"
      ],
      "text/plain": [
       "                                                 title  vote_count  \\\n",
       "96                            The Shawshank Redemption       15522   \n",
       "110                                      The Godfather       11768   \n",
       "216                                       Pulp Fiction       18003   \n",
       "88                                     The Dark Knight       21561   \n",
       "243                                         Fight Club       18664   \n",
       "361                                       Forrest Gump       17344   \n",
       "80                                           Inception       25148   \n",
       "252                                   Schindler's List        9366   \n",
       "197      The Lord of the Rings: The Return of the King       14987   \n",
       "47                                        Interstellar       21589   \n",
       "63                              Avengers: Infinity War       17408   \n",
       "772                                     The Green Mile        9740   \n",
       "121  The Lord of the Rings: The Fellowship of the Ring       16434   \n",
       "152                                      Spirited Away        9009   \n",
       "540                            The Empire Strikes Back       11164   \n",
       "\n",
       "     vote_average     score  \n",
       "96            8.7  8.361665  \n",
       "110           8.7  8.272989  \n",
       "216           8.5  8.227353  \n",
       "88            8.4  8.178173  \n",
       "243           8.4  8.147887  \n",
       "361           8.4  8.131163  \n",
       "80            8.3  8.116118  \n",
       "252           8.6  8.108382  \n",
       "197           8.4  8.095041  \n",
       "47            8.3  8.089012  \n",
       "63            8.3  8.044824  \n",
       "772           8.5  8.044117  \n",
       "121           8.3  8.031735  \n",
       "152           8.5  8.015299  \n",
       "540           8.4  8.010060  "
      ]
     },
     "execution_count": 27,
     "metadata": {},
     "output_type": "execute_result"
    }
   ],
   "source": [
    "# to print top 15 movies\n",
    "q_movies[['title','vote_count','vote_average','score']].head(15)"
   ]
  },
  {
   "cell_type": "code",
   "execution_count": 28,
   "id": "475f8bcb",
   "metadata": {},
   "outputs": [
    {
     "data": {
      "text/plain": [
       "0    The near future, a time when both hope and har...\n",
       "1    After he and his wife are murdered, marine Ray...\n",
       "2    Marcus and Mike are forced to confront new thr...\n",
       "3    Armed with the astonishing ability to shrink i...\n",
       "4    In their quest to confront the ultimate evil, ...\n",
       "Name: overview, dtype: object"
      ]
     },
     "execution_count": 28,
     "metadata": {},
     "output_type": "execute_result"
    }
   ],
   "source": [
    "# to print overviews of the first 5 movies\n",
    "df['overview'].head()"
   ]
  },
  {
   "cell_type": "code",
   "execution_count": 29,
   "id": "8463aa39",
   "metadata": {},
   "outputs": [],
   "source": [
    "# to import TFIdfVectoriser from scikit-learn\n",
    "from sklearn.feature_extraction.text import TfidfVectorizer"
   ]
  },
  {
   "cell_type": "code",
   "execution_count": 30,
   "id": "e1d6fcf0",
   "metadata": {},
   "outputs": [],
   "source": [
    "# to define a TF-IDF Vectoriser object. Removes all english stop words\n",
    "tfidf= TfidfVectorizer(stop_words='english')"
   ]
  },
  {
   "cell_type": "code",
   "execution_count": 31,
   "id": "01f8d09e",
   "metadata": {},
   "outputs": [],
   "source": [
    "# to replace NaN with an empty string\n",
    "df['overview'] = df['overview'].fillna('')"
   ]
  },
  {
   "cell_type": "code",
   "execution_count": 32,
   "id": "5a8d569d",
   "metadata": {},
   "outputs": [],
   "source": [
    "# to construct the required TF-IDF matrix by fitting and transforming the data\n",
    "tfidf_matrix = tfidf.fit_transform(df['overview'])"
   ]
  },
  {
   "cell_type": "code",
   "execution_count": 33,
   "id": "9b743639",
   "metadata": {},
   "outputs": [
    {
     "data": {
      "text/plain": [
       "(10000, 28709)"
      ]
     },
     "execution_count": 33,
     "metadata": {},
     "output_type": "execute_result"
    }
   ],
   "source": [
    "# to output the shape of tdif_matrix\n",
    "tfidf_matrix.shape"
   ]
  },
  {
   "cell_type": "code",
   "execution_count": 34,
   "id": "7a7bbd6b",
   "metadata": {},
   "outputs": [
    {
     "data": {
      "text/plain": [
       "array(['cliques', 'clive', 'cloaked', 'cloaking', 'clobbered', 'clock',\n",
       "       'clocking', 'clocks', 'clockwork', 'clodagh'], dtype=object)"
      ]
     },
     "execution_count": 34,
     "metadata": {},
     "output_type": "execute_result"
    }
   ],
   "source": [
    "# array mapping from feature integer indices to feature name\n",
    "# [5000:5010] slice is used to get the feature names for the indices between 5000 and 5010 (exclusive).\n",
    "# https://stackoverflow.com/questions/70215049/attributeerror-tfidfvectorizer-object-has-no-attribute-get-feature-names-out\n",
    "tfidf.get_feature_names_out()[5000:5010]"
   ]
  },
  {
   "cell_type": "code",
   "execution_count": 35,
   "id": "b1a3be8d",
   "metadata": {},
   "outputs": [],
   "source": [
    "# to import linear kernel\n",
    "# to use sklearn's linear_kernel() instead of cosine_similarities() since it is faster.\n",
    "from sklearn.metrics.pairwise import linear_kernel"
   ]
  },
  {
   "cell_type": "code",
   "execution_count": 36,
   "id": "bea1a441",
   "metadata": {},
   "outputs": [],
   "source": [
    "# to compute the cosine similarity matrix\n",
    "# the cosine similarity to calculate a numeric quantity that denotes the similarity between two movies\n",
    "cosine_sim = linear_kernel(tfidf_matrix, tfidf_matrix)"
   ]
  },
  {
   "cell_type": "code",
   "execution_count": 37,
   "id": "68012cf0",
   "metadata": {},
   "outputs": [
    {
     "data": {
      "text/plain": [
       "(10000, 10000)"
      ]
     },
     "execution_count": 37,
     "metadata": {},
     "output_type": "execute_result"
    }
   ],
   "source": [
    "cosine_sim.shape"
   ]
  },
  {
   "cell_type": "code",
   "execution_count": 38,
   "id": "517bd9e0",
   "metadata": {},
   "outputs": [
    {
     "data": {
      "text/plain": [
       "array([0.00563717, 1.        , 0.01311654, ..., 0.00938582, 0.        ,\n",
       "       0.        ])"
      ]
     },
     "execution_count": 38,
     "metadata": {},
     "output_type": "execute_result"
    }
   ],
   "source": [
    "# to access the element at index 1 in the variable cosine_sim\n",
    "# By accessing the element at index 1, the code is retrieving the cosine similarity score between the second set of data and the first set of data.\n",
    "cosine_sim[1]"
   ]
  },
  {
   "cell_type": "code",
   "execution_count": 39,
   "id": "60660b95",
   "metadata": {},
   "outputs": [],
   "source": [
    "# to construct a reverse map of indices and movie titles\n",
    "indices = pd.Series(df.index, index=df['title']).drop_duplicates()"
   ]
  },
  {
   "cell_type": "code",
   "execution_count": 40,
   "id": "6c2afd3d",
   "metadata": {},
   "outputs": [
    {
     "data": {
      "text/plain": [
       "title\n",
       "Ad Astra                                                                0\n",
       "Bloodshot                                                               1\n",
       "Bad Boys for Life                                                       2\n",
       "Ant-Man                                                                 3\n",
       "Percy Jackson: Sea of Monsters                                          4\n",
       "Birds of Prey (and the Fantabulous Emancipation of One Harley Quinn)    5\n",
       "Live Free or Die Hard                                                   6\n",
       "Cold Blood                                                              7\n",
       "Underwater                                                              8\n",
       "The Platform                                                            9\n",
       "dtype: int64"
      ]
     },
     "execution_count": 40,
     "metadata": {},
     "output_type": "execute_result"
    }
   ],
   "source": [
    "# to return the first 10 elements of the list.\n",
    "indices[:10]"
   ]
  },
  {
   "cell_type": "code",
   "execution_count": 41,
   "id": "6fa38819",
   "metadata": {},
   "outputs": [],
   "source": [
    "# code defines a function called get_recommendations that takes in a movie title as input, output top 10 most similiar movies\n",
    "# based on cosine similiarity scores\n",
    "# Function that takes in movie title as input and outputs most similar movies\n",
    "def get_recommendations(title, cosine_sim=cosine_sim):\n",
    "    # Get the index of the movie that matches the title\n",
    "    idx = indices[title]\n",
    "\n",
    "    # Get the pairwsie similarity scores of all movies with that movie\n",
    "    sim_scores = list(enumerate(cosine_sim[idx]))\n",
    "\n",
    "    # Sort the movies based on the similarity scores\n",
    "    sim_scores = sorted(sim_scores, key=lambda x: x[1], reverse=True)\n",
    "\n",
    "    # Get the scores of the 10 most similar movies\n",
    "    sim_scores = sim_scores[1:11]\n",
    "\n",
    "    # Get the movie indices\n",
    "    movie_indices = [i[0] for i in sim_scores]\n",
    "\n",
    "    # Return the top 10 most similar movies\n",
    "    return df['title'].iloc[movie_indices]"
   ]
  },
  {
   "cell_type": "code",
   "execution_count": 42,
   "id": "ebc7e29a",
   "metadata": {},
   "outputs": [
    {
     "data": {
      "text/plain": [
       "2794                   In Hell\n",
       "4502             Sherlock, Jr.\n",
       "521                Escape Plan\n",
       "6901                  Brubaker\n",
       "1729    The 40 Year Old Virgin\n",
       "4973                Demolition\n",
       "1987            Cool Hand Luke\n",
       "4910                  Fortress\n",
       "348                Toy Story 3\n",
       "5405         A Christmas Story\n",
       "Name: title, dtype: object"
      ]
     },
     "execution_count": 42,
     "metadata": {},
     "output_type": "execute_result"
    }
   ],
   "source": [
    "# to return a list of recommended movies for 'The Shawshank Redemption'\n",
    "get_recommendations('The Shawshank Redemption')"
   ]
  },
  {
   "cell_type": "code",
   "execution_count": 43,
   "id": "ed4fac12",
   "metadata": {},
   "outputs": [
    {
     "data": {
      "text/plain": [
       "233      The Godfather: Part II\n",
       "1226    The Godfather: Part III\n",
       "7814                 Blood Ties\n",
       "9884                   Election\n",
       "7451                 Proud Mary\n",
       "2502              Live by Night\n",
       "7303            Family Business\n",
       "9689                     Eulogy\n",
       "8864             American Movie\n",
       "9201                       Made\n",
       "Name: title, dtype: object"
      ]
     },
     "execution_count": 43,
     "metadata": {},
     "output_type": "execute_result"
    }
   ],
   "source": [
    "# to return a list of recommended movies of 'The Godfather'\n",
    "get_recommendations('The Godfather')"
   ]
  },
  {
   "cell_type": "code",
   "execution_count": 44,
   "id": "f78e0d3f",
   "metadata": {},
   "outputs": [
    {
     "data": {
      "text/plain": [
       "375                       The Dark Knight Rises\n",
       "685                              Batman Returns\n",
       "9675                        Batman vs. Two-Face\n",
       "2252                 Batman: Under the Red Hood\n",
       "1234                             Batman Forever\n",
       "2855                   Batman: The Killing Joke\n",
       "976     Batman: The Dark Knight Returns, Part 2\n",
       "6392                 Batman: Gotham by Gaslight\n",
       "6220           LEGO DC: Batman - Family Matters\n",
       "5441                           Batman: Year One\n",
       "Name: title, dtype: object"
      ]
     },
     "execution_count": 44,
     "metadata": {},
     "output_type": "execute_result"
    }
   ],
   "source": [
    "# to return a list of recommended movies of 'The Dark Knight'\n",
    "get_recommendations('The Dark Knight')"
   ]
  },
  {
   "cell_type": "code",
   "execution_count": null,
   "id": "3f814d64",
   "metadata": {},
   "outputs": [],
   "source": []
  }
 ],
 "metadata": {
  "kernelspec": {
   "display_name": "Python 3 (ipykernel)",
   "language": "python",
   "name": "python3"
  },
  "language_info": {
   "codemirror_mode": {
    "name": "ipython",
    "version": 3
   },
   "file_extension": ".py",
   "mimetype": "text/x-python",
   "name": "python",
   "nbconvert_exporter": "python",
   "pygments_lexer": "ipython3",
   "version": "3.11.5"
  }
 },
 "nbformat": 4,
 "nbformat_minor": 5
}
